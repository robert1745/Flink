{
 "cells": [
  {
   "cell_type": "code",
   "execution_count": 9,
   "metadata": {},
   "outputs": [
    {
     "name": "stdout",
     "output_type": "stream",
     "text": [
      "Requirement already satisfied: kafka-python in c:\\python312\\lib\\site-packages (2.0.5)\n",
      "Note: you may need to restart the kernel to use updated packages.\n"
     ]
    },
    {
     "name": "stderr",
     "output_type": "stream",
     "text": [
      "\n",
      "[notice] A new release of pip is available: 24.3.1 -> 25.0.1\n",
      "[notice] To update, run: python.exe -m pip install --upgrade pip\n"
     ]
    }
   ],
   "source": [
    "%pip install kafka-python\n",
    "\n",
    "import json\n",
    "from kafka import KafkaProducer\n",
    "\n",
    "# Kafka configuration\n",
    "KAFKA_BROKER = 'localhost:29092'  # Replace with your Kafka broker address\n",
    "TOPIC = 'input-topic'            # Replace with your Kafka topic name\n",
    "\n",
    "# Initialize Kafka producer\n",
    "producer = KafkaProducer(\n",
    "    bootstrap_servers=KAFKA_BROKER,\n",
    "    value_serializer=lambda v: json.dumps(v).encode('utf-8')  # Serialize JSON data\n",
    ")"
   ]
  },
  {
   "cell_type": "code",
   "execution_count": 10,
   "metadata": {},
   "outputs": [],
   "source": [
    "with open('../dummy_data.json', 'r') as file:\n",
    "    raw_data = json.load(file)\n",
    "\n",
    "\n",
    "# Extract columns and records\n",
    "columns = raw_data[\"columns\"]\n",
    "records = raw_data[\"records\"]"
   ]
  },
  {
   "cell_type": "code",
   "execution_count": 11,
   "metadata": {},
   "outputs": [],
   "source": [
    "message_single = dict(zip(columns, records[5]))"
   ]
  },
  {
   "cell_type": "code",
   "execution_count": 12,
   "metadata": {},
   "outputs": [
    {
     "data": {
      "text/plain": [
       "{'BF_CellVoltage1': -2147483650,\n",
       " 'BF_CellVoltage10': 4.141,\n",
       " 'BF_CellVoltage11': 4.145,\n",
       " 'BF_CellVoltage12': 4.147,\n",
       " 'BF_CellVoltage2': -2147483650,\n",
       " 'BF_CellVoltage3': -2147483650,\n",
       " 'BF_CellVoltage4': -2147483650,\n",
       " 'BF_CellVoltage5': -2147483650,\n",
       " 'BF_CellVoltage6': -2147483650,\n",
       " 'BF_CellVoltage7': -2147483650,\n",
       " 'BF_CellVoltage8': -2147483650,\n",
       " 'BF_CellVoltage9': 4.14,\n",
       " 'event_time': 1740573243827,\n",
       " 'vin': 'P6WC2C1B5R1000105'}"
      ]
     },
     "execution_count": 12,
     "metadata": {},
     "output_type": "execute_result"
    }
   ],
   "source": [
    "message_single"
   ]
  },
  {
   "cell_type": "code",
   "execution_count": 13,
   "metadata": {},
   "outputs": [
    {
     "name": "stdout",
     "output_type": "stream",
     "text": [
      "sending the data to the topic input-topic\n"
     ]
    },
    {
     "data": {
      "text/plain": [
       "<kafka.producer.future.FutureRecordMetadata at 0x2c785d021e0>"
      ]
     },
     "execution_count": 13,
     "metadata": {},
     "output_type": "execute_result"
    }
   ],
   "source": [
    "print(f\"sending the data to the topic {TOPIC}\")\n",
    "producer.send(TOPIC, value=message_single)"
   ]
  },
  {
   "cell_type": "code",
   "execution_count": 8,
   "metadata": {},
   "outputs": [
    {
     "name": "stdout",
     "output_type": "stream",
     "text": [
      "Produced: {'BF_CellVoltage1': 4.132, 'BF_CellVoltage10': -2147483650, 'BF_CellVoltage11': -2147483650, 'BF_CellVoltage12': -2147483650, 'BF_CellVoltage2': 4.133, 'BF_CellVoltage3': 4.132, 'BF_CellVoltage4': 4.134, 'BF_CellVoltage5': -2147483650, 'BF_CellVoltage6': -2147483650, 'BF_CellVoltage7': -2147483650, 'BF_CellVoltage8': -2147483650, 'BF_CellVoltage9': -2147483650, 'event_time': 1740573242531, 'vin': 'P6WC2C1B5R1000105'}\n",
      "Produced: {'BF_CellVoltage1': -2147483650, 'BF_CellVoltage10': -2147483650, 'BF_CellVoltage11': -2147483650, 'BF_CellVoltage12': -2147483650, 'BF_CellVoltage2': -2147483650, 'BF_CellVoltage3': -2147483650, 'BF_CellVoltage4': -2147483650, 'BF_CellVoltage5': 4.128, 'BF_CellVoltage6': 4.134, 'BF_CellVoltage7': 4.142, 'BF_CellVoltage8': 4.139, 'BF_CellVoltage9': -2147483650, 'event_time': 1740573242543, 'vin': 'P6WC2C1B5R1000105'}\n",
      "Produced: {'BF_CellVoltage1': -2147483650, 'BF_CellVoltage10': 4.141, 'BF_CellVoltage11': 4.145, 'BF_CellVoltage12': 4.147, 'BF_CellVoltage2': -2147483650, 'BF_CellVoltage3': -2147483650, 'BF_CellVoltage4': -2147483650, 'BF_CellVoltage5': -2147483650, 'BF_CellVoltage6': -2147483650, 'BF_CellVoltage7': -2147483650, 'BF_CellVoltage8': -2147483650, 'BF_CellVoltage9': 4.14, 'event_time': 1740573242594, 'vin': 'P6WC2C1B5R1000105'}\n",
      "Produced: {'BF_CellVoltage1': -2147483650, 'BF_CellVoltage10': 4.14, 'BF_CellVoltage11': 4.145, 'BF_CellVoltage12': 4.147, 'BF_CellVoltage2': -2147483650, 'BF_CellVoltage3': -2147483650, 'BF_CellVoltage4': -2147483650, 'BF_CellVoltage5': -2147483650, 'BF_CellVoltage6': -2147483650, 'BF_CellVoltage7': -2147483650, 'BF_CellVoltage8': -2147483650, 'BF_CellVoltage9': 4.14, 'event_time': 1740573242765, 'vin': 'P6WC2C1B5R1000105'}\n",
      "Produced: {'BF_CellVoltage1': -2147483650, 'BF_CellVoltage10': 4.141, 'BF_CellVoltage11': 4.146, 'BF_CellVoltage12': 4.147, 'BF_CellVoltage2': -2147483650, 'BF_CellVoltage3': -2147483650, 'BF_CellVoltage4': -2147483650, 'BF_CellVoltage5': -2147483650, 'BF_CellVoltage6': -2147483650, 'BF_CellVoltage7': -2147483650, 'BF_CellVoltage8': -2147483650, 'BF_CellVoltage9': 4.14, 'event_time': 1740573243261, 'vin': 'P6WC2C1B5R1000105'}\n",
      "Produced: {'BF_CellVoltage1': -2147483650, 'BF_CellVoltage10': 4.141, 'BF_CellVoltage11': 4.145, 'BF_CellVoltage12': 4.147, 'BF_CellVoltage2': -2147483650, 'BF_CellVoltage3': -2147483650, 'BF_CellVoltage4': -2147483650, 'BF_CellVoltage5': -2147483650, 'BF_CellVoltage6': -2147483650, 'BF_CellVoltage7': -2147483650, 'BF_CellVoltage8': -2147483650, 'BF_CellVoltage9': 4.14, 'event_time': 1740573243827, 'vin': 'P6WC2C1B5R1000105'}\n",
      "Produced: {'BF_CellVoltage1': -2147483650, 'BF_CellVoltage10': -2147483650, 'BF_CellVoltage11': -2147483650, 'BF_CellVoltage12': -2147483650, 'BF_CellVoltage2': -2147483650, 'BF_CellVoltage3': -2147483650, 'BF_CellVoltage4': -2147483650, 'BF_CellVoltage5': 4.128, 'BF_CellVoltage6': 4.134, 'BF_CellVoltage7': 4.141, 'BF_CellVoltage8': 4.139, 'BF_CellVoltage9': -2147483650, 'event_time': 1740573243851, 'vin': 'P6WC2C1B5R1000105'}\n",
      "Produced: {'BF_CellVoltage1': -2147483650, 'BF_CellVoltage10': 4.141, 'BF_CellVoltage11': 4.146, 'BF_CellVoltage12': 4.147, 'BF_CellVoltage2': -2147483650, 'BF_CellVoltage3': -2147483650, 'BF_CellVoltage4': -2147483650, 'BF_CellVoltage5': -2147483650, 'BF_CellVoltage6': -2147483650, 'BF_CellVoltage7': -2147483650, 'BF_CellVoltage8': -2147483650, 'BF_CellVoltage9': 4.14, 'event_time': 1740573243863, 'vin': 'P6WC2C1B5R1000105'}\n",
      "Produced: {'BF_CellVoltage1': -2147483650, 'BF_CellVoltage10': -2147483650, 'BF_CellVoltage11': -2147483650, 'BF_CellVoltage12': -2147483650, 'BF_CellVoltage2': -2147483650, 'BF_CellVoltage3': -2147483650, 'BF_CellVoltage4': -2147483650, 'BF_CellVoltage5': 4.128, 'BF_CellVoltage6': 4.134, 'BF_CellVoltage7': 4.142, 'BF_CellVoltage8': 4.139, 'BF_CellVoltage9': -2147483650, 'event_time': 1740573243902, 'vin': 'P6WC2C1B5R1000105'}\n",
      "Produced: {'BF_CellVoltage1': -2147483650, 'BF_CellVoltage10': -2147483650, 'BF_CellVoltage11': -2147483650, 'BF_CellVoltage12': -2147483650, 'BF_CellVoltage2': -2147483650, 'BF_CellVoltage3': -2147483650, 'BF_CellVoltage4': -2147483650, 'BF_CellVoltage5': 4.129, 'BF_CellVoltage6': 4.134, 'BF_CellVoltage7': 4.142, 'BF_CellVoltage8': 4.14, 'BF_CellVoltage9': -2147483650, 'event_time': 1740573244006, 'vin': 'P6WC2C1B5R1000105'}\n",
      "Produced: {'BF_CellVoltage1': -2147483650, 'BF_CellVoltage10': 4.14, 'BF_CellVoltage11': 4.145, 'BF_CellVoltage12': 4.147, 'BF_CellVoltage2': -2147483650, 'BF_CellVoltage3': -2147483650, 'BF_CellVoltage4': -2147483650, 'BF_CellVoltage5': -2147483650, 'BF_CellVoltage6': -2147483650, 'BF_CellVoltage7': -2147483650, 'BF_CellVoltage8': -2147483650, 'BF_CellVoltage9': 4.14, 'event_time': 1740573244045, 'vin': 'P6WC2C1B5R1000105'}\n",
      "Produced: {'BF_CellVoltage1': -2147483650, 'BF_CellVoltage10': -2147483650, 'BF_CellVoltage11': -2147483650, 'BF_CellVoltage12': -2147483650, 'BF_CellVoltage2': -2147483650, 'BF_CellVoltage3': -2147483650, 'BF_CellVoltage4': -2147483650, 'BF_CellVoltage5': 4.128, 'BF_CellVoltage6': 4.134, 'BF_CellVoltage7': 4.14, 'BF_CellVoltage8': 4.14, 'BF_CellVoltage9': -2147483650, 'event_time': 1740573244087, 'vin': 'P6WC2C1B5R1000105'}\n",
      "Produced: {'BF_CellVoltage1': -2147483650, 'BF_CellVoltage10': 4.141, 'BF_CellVoltage11': 4.146, 'BF_CellVoltage12': 4.148, 'BF_CellVoltage2': -2147483650, 'BF_CellVoltage3': -2147483650, 'BF_CellVoltage4': -2147483650, 'BF_CellVoltage5': -2147483650, 'BF_CellVoltage6': -2147483650, 'BF_CellVoltage7': -2147483650, 'BF_CellVoltage8': -2147483650, 'BF_CellVoltage9': 4.141, 'event_time': 1740573244108, 'vin': 'P6WC2C1B5R1000105'}\n",
      "Produced: {'BF_CellVoltage1': -2147483650, 'BF_CellVoltage10': -2147483650, 'BF_CellVoltage11': -2147483650, 'BF_CellVoltage12': -2147483650, 'BF_CellVoltage2': -2147483650, 'BF_CellVoltage3': -2147483650, 'BF_CellVoltage4': -2147483650, 'BF_CellVoltage5': 4.129, 'BF_CellVoltage6': 4.134, 'BF_CellVoltage7': 4.142, 'BF_CellVoltage8': 4.139, 'BF_CellVoltage9': -2147483650, 'event_time': 1740573244388, 'vin': 'P6WC2C1B5R1000105'}\n",
      "Produced: {'BF_CellVoltage1': -2147483650, 'BF_CellVoltage10': 4.141, 'BF_CellVoltage11': 4.145, 'BF_CellVoltage12': 4.147, 'BF_CellVoltage2': -2147483650, 'BF_CellVoltage3': -2147483650, 'BF_CellVoltage4': -2147483650, 'BF_CellVoltage5': -2147483650, 'BF_CellVoltage6': -2147483650, 'BF_CellVoltage7': -2147483650, 'BF_CellVoltage8': -2147483650, 'BF_CellVoltage9': 4.14, 'event_time': 1740573244524, 'vin': 'P6WC2C1B5R1000105'}\n",
      "Produced: {'BF_CellVoltage1': 4.132, 'BF_CellVoltage10': -2147483650, 'BF_CellVoltage11': -2147483650, 'BF_CellVoltage12': -2147483650, 'BF_CellVoltage2': 4.134, 'BF_CellVoltage3': 4.132, 'BF_CellVoltage4': 4.134, 'BF_CellVoltage5': -2147483650, 'BF_CellVoltage6': -2147483650, 'BF_CellVoltage7': -2147483650, 'BF_CellVoltage8': -2147483650, 'BF_CellVoltage9': -2147483650, 'event_time': 1740573244696, 'vin': 'P6WC2C1B5R1000105'}\n",
      "Produced: {'BF_CellVoltage1': -2147483650, 'BF_CellVoltage10': -2147483650, 'BF_CellVoltage11': -2147483650, 'BF_CellVoltage12': -2147483650, 'BF_CellVoltage2': -2147483650, 'BF_CellVoltage3': -2147483650, 'BF_CellVoltage4': -2147483650, 'BF_CellVoltage5': 4.128, 'BF_CellVoltage6': 4.134, 'BF_CellVoltage7': 4.142, 'BF_CellVoltage8': 4.14, 'BF_CellVoltage9': -2147483650, 'event_time': 1740573244703, 'vin': 'P6WC2C1B5R1000105'}\n",
      "Produced: {'BF_CellVoltage1': 4.132, 'BF_CellVoltage10': -2147483650, 'BF_CellVoltage11': -2147483650, 'BF_CellVoltage12': -2147483650, 'BF_CellVoltage2': 4.133, 'BF_CellVoltage3': 4.132, 'BF_CellVoltage4': 4.134, 'BF_CellVoltage5': -2147483650, 'BF_CellVoltage6': -2147483650, 'BF_CellVoltage7': -2147483650, 'BF_CellVoltage8': -2147483650, 'BF_CellVoltage9': -2147483650, 'event_time': 1740573244951, 'vin': 'P6WC2C1B5R1000105'}\n",
      "Produced: {'BF_CellVoltage1': -2147483650, 'BF_CellVoltage10': -2147483650, 'BF_CellVoltage11': -2147483650, 'BF_CellVoltage12': -2147483650, 'BF_CellVoltage2': -2147483650, 'BF_CellVoltage3': -2147483650, 'BF_CellVoltage4': -2147483650, 'BF_CellVoltage5': 4.129, 'BF_CellVoltage6': 4.134, 'BF_CellVoltage7': 4.142, 'BF_CellVoltage8': 4.139, 'BF_CellVoltage9': -2147483650, 'event_time': 1740573245019, 'vin': 'P6WC2C1B5R1000105'}\n",
      "Produced: {'BF_CellVoltage1': -2147483650, 'BF_CellVoltage10': 4.141, 'BF_CellVoltage11': 4.145, 'BF_CellVoltage12': 4.147, 'BF_CellVoltage2': -2147483650, 'BF_CellVoltage3': -2147483650, 'BF_CellVoltage4': -2147483650, 'BF_CellVoltage5': -2147483650, 'BF_CellVoltage6': -2147483650, 'BF_CellVoltage7': -2147483650, 'BF_CellVoltage8': -2147483650, 'BF_CellVoltage9': 4.14, 'event_time': 1740573245027, 'vin': 'P6WC2C1B5R1000105'}\n",
      "Produced: {'BF_CellVoltage1': -2147483650, 'BF_CellVoltage10': -2147483650, 'BF_CellVoltage11': -2147483650, 'BF_CellVoltage12': -2147483650, 'BF_CellVoltage2': -2147483650, 'BF_CellVoltage3': -2147483650, 'BF_CellVoltage4': -2147483650, 'BF_CellVoltage5': 4.128, 'BF_CellVoltage6': 4.134, 'BF_CellVoltage7': 4.142, 'BF_CellVoltage8': 4.139, 'BF_CellVoltage9': -2147483650, 'event_time': 1740573245154, 'vin': 'P6WC2C1B5R1000105'}\n",
      "Produced: {'BF_CellVoltage1': -2147483650, 'BF_CellVoltage10': 4.14, 'BF_CellVoltage11': 4.145, 'BF_CellVoltage12': 4.147, 'BF_CellVoltage2': -2147483650, 'BF_CellVoltage3': -2147483650, 'BF_CellVoltage4': -2147483650, 'BF_CellVoltage5': -2147483650, 'BF_CellVoltage6': -2147483650, 'BF_CellVoltage7': -2147483650, 'BF_CellVoltage8': -2147483650, 'BF_CellVoltage9': 4.14, 'event_time': 1740573245167, 'vin': 'P6WC2C1B5R1000105'}\n",
      "Produced: {'BF_CellVoltage1': -2147483650, 'BF_CellVoltage10': -2147483650, 'BF_CellVoltage11': -2147483650, 'BF_CellVoltage12': -2147483650, 'BF_CellVoltage2': -2147483650, 'BF_CellVoltage3': -2147483650, 'BF_CellVoltage4': -2147483650, 'BF_CellVoltage5': 4.128, 'BF_CellVoltage6': 4.134, 'BF_CellVoltage7': 4.142, 'BF_CellVoltage8': 4.14, 'BF_CellVoltage9': -2147483650, 'event_time': 1740573245208, 'vin': 'P6WC2C1B5R1000105'}\n",
      "Produced: {'BF_CellVoltage1': -2147483650, 'BF_CellVoltage10': 4.14, 'BF_CellVoltage11': 4.145, 'BF_CellVoltage12': 4.148, 'BF_CellVoltage2': -2147483650, 'BF_CellVoltage3': -2147483650, 'BF_CellVoltage4': -2147483650, 'BF_CellVoltage5': -2147483650, 'BF_CellVoltage6': -2147483650, 'BF_CellVoltage7': -2147483650, 'BF_CellVoltage8': -2147483650, 'BF_CellVoltage9': 4.14, 'event_time': 1740573245216, 'vin': 'P6WC2C1B5R1000105'}\n",
      "Produced: {'BF_CellVoltage1': -2147483650, 'BF_CellVoltage10': 4.14, 'BF_CellVoltage11': 4.146, 'BF_CellVoltage12': 4.147, 'BF_CellVoltage2': -2147483650, 'BF_CellVoltage3': -2147483650, 'BF_CellVoltage4': -2147483650, 'BF_CellVoltage5': -2147483650, 'BF_CellVoltage6': -2147483650, 'BF_CellVoltage7': -2147483650, 'BF_CellVoltage8': -2147483650, 'BF_CellVoltage9': 4.14, 'event_time': 1740573245223, 'vin': 'P6WC2C1B5R1000105'}\n",
      "Produced: {'BF_CellVoltage1': -2147483650, 'BF_CellVoltage10': -2147483650, 'BF_CellVoltage11': -2147483650, 'BF_CellVoltage12': -2147483650, 'BF_CellVoltage2': -2147483650, 'BF_CellVoltage3': -2147483650, 'BF_CellVoltage4': -2147483650, 'BF_CellVoltage5': 4.128, 'BF_CellVoltage6': 4.134, 'BF_CellVoltage7': 4.142, 'BF_CellVoltage8': 4.139, 'BF_CellVoltage9': -2147483650, 'event_time': 1740573245332, 'vin': 'P6WC2C1B5R1000105'}\n",
      "Produced: {'BF_CellVoltage1': -2147483650, 'BF_CellVoltage10': 4.14, 'BF_CellVoltage11': 4.145, 'BF_CellVoltage12': 4.147, 'BF_CellVoltage2': -2147483650, 'BF_CellVoltage3': -2147483650, 'BF_CellVoltage4': -2147483650, 'BF_CellVoltage5': -2147483650, 'BF_CellVoltage6': -2147483650, 'BF_CellVoltage7': -2147483650, 'BF_CellVoltage8': -2147483650, 'BF_CellVoltage9': 4.14, 'event_time': 1740573245340, 'vin': 'P6WC2C1B5R1000105'}\n",
      "Produced: {'BF_CellVoltage1': 4.132, 'BF_CellVoltage10': -2147483650, 'BF_CellVoltage11': -2147483650, 'BF_CellVoltage12': -2147483650, 'BF_CellVoltage2': 4.134, 'BF_CellVoltage3': 4.132, 'BF_CellVoltage4': 4.134, 'BF_CellVoltage5': -2147483650, 'BF_CellVoltage6': -2147483650, 'BF_CellVoltage7': -2147483650, 'BF_CellVoltage8': -2147483650, 'BF_CellVoltage9': -2147483650, 'event_time': 1740573245452, 'vin': 'P6WC2C1B5R1000105'}\n",
      "Produced: {'BF_CellVoltage1': -2147483650, 'BF_CellVoltage10': 4.141, 'BF_CellVoltage11': 4.146, 'BF_CellVoltage12': 4.146, 'BF_CellVoltage2': -2147483650, 'BF_CellVoltage3': -2147483650, 'BF_CellVoltage4': -2147483650, 'BF_CellVoltage5': -2147483650, 'BF_CellVoltage6': -2147483650, 'BF_CellVoltage7': -2147483650, 'BF_CellVoltage8': -2147483650, 'BF_CellVoltage9': 4.14, 'event_time': 1740573245474, 'vin': 'P6WC2C1B5R1000105'}\n",
      "Produced: {'BF_CellVoltage1': 4.132, 'BF_CellVoltage10': -2147483650, 'BF_CellVoltage11': -2147483650, 'BF_CellVoltage12': -2147483650, 'BF_CellVoltage2': 4.133, 'BF_CellVoltage3': 4.132, 'BF_CellVoltage4': 4.134, 'BF_CellVoltage5': -2147483650, 'BF_CellVoltage6': -2147483650, 'BF_CellVoltage7': -2147483650, 'BF_CellVoltage8': -2147483650, 'BF_CellVoltage9': -2147483650, 'event_time': 1740573245584, 'vin': 'P6WC2C1B5R1000105'}\n",
      "Produced: {'BF_CellVoltage1': -2147483650, 'BF_CellVoltage10': 4.14, 'BF_CellVoltage11': 4.146, 'BF_CellVoltage12': 4.147, 'BF_CellVoltage2': -2147483650, 'BF_CellVoltage3': -2147483650, 'BF_CellVoltage4': -2147483650, 'BF_CellVoltage5': -2147483650, 'BF_CellVoltage6': -2147483650, 'BF_CellVoltage7': -2147483650, 'BF_CellVoltage8': -2147483650, 'BF_CellVoltage9': 4.14, 'event_time': 1740573245606, 'vin': 'P6WC2C1B5R1000105'}\n",
      "Produced: {'BF_CellVoltage1': 4.132, 'BF_CellVoltage10': -2147483650, 'BF_CellVoltage11': -2147483650, 'BF_CellVoltage12': -2147483650, 'BF_CellVoltage2': 4.133, 'BF_CellVoltage3': 4.132, 'BF_CellVoltage4': 4.133, 'BF_CellVoltage5': -2147483650, 'BF_CellVoltage6': -2147483650, 'BF_CellVoltage7': -2147483650, 'BF_CellVoltage8': -2147483650, 'BF_CellVoltage9': -2147483650, 'event_time': 1740573245794, 'vin': 'P6WC2C1B5R1000105'}\n",
      "Produced: {'BF_CellVoltage1': -2147483650, 'BF_CellVoltage10': 4.141, 'BF_CellVoltage11': 4.145, 'BF_CellVoltage12': 4.147, 'BF_CellVoltage2': -2147483650, 'BF_CellVoltage3': -2147483650, 'BF_CellVoltage4': -2147483650, 'BF_CellVoltage5': -2147483650, 'BF_CellVoltage6': -2147483650, 'BF_CellVoltage7': -2147483650, 'BF_CellVoltage8': -2147483650, 'BF_CellVoltage9': 4.14, 'event_time': 1740573245810, 'vin': 'P6WC2C1B5R1000105'}\n",
      "Produced: {'BF_CellVoltage1': -2147483650, 'BF_CellVoltage10': 4.14, 'BF_CellVoltage11': 4.145, 'BF_CellVoltage12': 4.147, 'BF_CellVoltage2': -2147483650, 'BF_CellVoltage3': -2147483650, 'BF_CellVoltage4': -2147483650, 'BF_CellVoltage5': -2147483650, 'BF_CellVoltage6': -2147483650, 'BF_CellVoltage7': -2147483650, 'BF_CellVoltage8': -2147483650, 'BF_CellVoltage9': 4.14, 'event_time': 1740573246205, 'vin': 'P6WC2C1B5R1000105'}\n",
      "Produced: {'BF_CellVoltage1': 4.132, 'BF_CellVoltage10': -2147483650, 'BF_CellVoltage11': -2147483650, 'BF_CellVoltage12': -2147483650, 'BF_CellVoltage2': 4.133, 'BF_CellVoltage3': 4.132, 'BF_CellVoltage4': 4.134, 'BF_CellVoltage5': -2147483650, 'BF_CellVoltage6': -2147483650, 'BF_CellVoltage7': -2147483650, 'BF_CellVoltage8': -2147483650, 'BF_CellVoltage9': -2147483650, 'event_time': 1740573246466, 'vin': 'P6WC2C1B5R1000105'}\n",
      "Produced: {'BF_CellVoltage1': -2147483650, 'BF_CellVoltage10': 4.14, 'BF_CellVoltage11': 4.146, 'BF_CellVoltage12': 4.147, 'BF_CellVoltage2': -2147483650, 'BF_CellVoltage3': -2147483650, 'BF_CellVoltage4': -2147483650, 'BF_CellVoltage5': -2147483650, 'BF_CellVoltage6': -2147483650, 'BF_CellVoltage7': -2147483650, 'BF_CellVoltage8': -2147483650, 'BF_CellVoltage9': 4.14, 'event_time': 1740573246492, 'vin': 'P6WC2C1B5R1000105'}\n",
      "Produced: {'BF_CellVoltage1': -2147483650, 'BF_CellVoltage10': -2147483650, 'BF_CellVoltage11': -2147483650, 'BF_CellVoltage12': -2147483650, 'BF_CellVoltage2': -2147483650, 'BF_CellVoltage3': -2147483650, 'BF_CellVoltage4': -2147483650, 'BF_CellVoltage5': 4.128, 'BF_CellVoltage6': 4.134, 'BF_CellVoltage7': 4.142, 'BF_CellVoltage8': 4.14, 'BF_CellVoltage9': -2147483650, 'event_time': 1740573246591, 'vin': 'P6WC2C1B5R1000105'}\n",
      "Produced: {'BF_CellVoltage1': -2147483650, 'BF_CellVoltage10': 4.14, 'BF_CellVoltage11': 4.147, 'BF_CellVoltage12': 4.145, 'BF_CellVoltage2': -2147483650, 'BF_CellVoltage3': -2147483650, 'BF_CellVoltage4': -2147483650, 'BF_CellVoltage5': -2147483650, 'BF_CellVoltage6': -2147483650, 'BF_CellVoltage7': -2147483650, 'BF_CellVoltage8': -2147483650, 'BF_CellVoltage9': 4.14, 'event_time': 1740573246616, 'vin': 'P6WC2C1B5R1000105'}\n",
      "Produced: {'BF_CellVoltage1': -2147483650, 'BF_CellVoltage10': -2147483650, 'BF_CellVoltage11': -2147483650, 'BF_CellVoltage12': -2147483650, 'BF_CellVoltage2': -2147483650, 'BF_CellVoltage3': -2147483650, 'BF_CellVoltage4': -2147483650, 'BF_CellVoltage5': 4.128, 'BF_CellVoltage6': 4.134, 'BF_CellVoltage7': 4.142, 'BF_CellVoltage8': 4.139, 'BF_CellVoltage9': -2147483650, 'event_time': 1740573246757, 'vin': 'P6WC2C1B5R1000105'}\n",
      "Produced: {'BF_CellVoltage1': -2147483650, 'BF_CellVoltage10': 4.141, 'BF_CellVoltage11': 4.146, 'BF_CellVoltage12': 4.145, 'BF_CellVoltage2': -2147483650, 'BF_CellVoltage3': -2147483650, 'BF_CellVoltage4': -2147483650, 'BF_CellVoltage5': -2147483650, 'BF_CellVoltage6': -2147483650, 'BF_CellVoltage7': -2147483650, 'BF_CellVoltage8': -2147483650, 'BF_CellVoltage9': 4.14, 'event_time': 1740573246806, 'vin': 'P6WC2C1B5R1000105'}\n",
      "Produced: {'BF_CellVoltage1': -2147483650, 'BF_CellVoltage10': 4.141, 'BF_CellVoltage11': 4.146, 'BF_CellVoltage12': 4.147, 'BF_CellVoltage2': -2147483650, 'BF_CellVoltage3': -2147483650, 'BF_CellVoltage4': -2147483650, 'BF_CellVoltage5': -2147483650, 'BF_CellVoltage6': -2147483650, 'BF_CellVoltage7': -2147483650, 'BF_CellVoltage8': -2147483650, 'BF_CellVoltage9': 4.141, 'event_time': 1740573246979, 'vin': 'P6WC2C1B5R1000105'}\n",
      "Produced: {'BF_CellVoltage1': -2147483650, 'BF_CellVoltage10': -2147483650, 'BF_CellVoltage11': -2147483650, 'BF_CellVoltage12': -2147483650, 'BF_CellVoltage2': -2147483650, 'BF_CellVoltage3': -2147483650, 'BF_CellVoltage4': -2147483650, 'BF_CellVoltage5': 4.128, 'BF_CellVoltage6': 4.134, 'BF_CellVoltage7': 4.145, 'BF_CellVoltage8': 4.139, 'BF_CellVoltage9': -2147483650, 'event_time': 1740573247372, 'vin': 'P6WC2C1B5R1000105'}\n",
      "Produced: {'BF_CellVoltage1': -2147483650, 'BF_CellVoltage10': 4.141, 'BF_CellVoltage11': 4.145, 'BF_CellVoltage12': 4.147, 'BF_CellVoltage2': -2147483650, 'BF_CellVoltage3': -2147483650, 'BF_CellVoltage4': -2147483650, 'BF_CellVoltage5': -2147483650, 'BF_CellVoltage6': -2147483650, 'BF_CellVoltage7': -2147483650, 'BF_CellVoltage8': -2147483650, 'BF_CellVoltage9': 4.141, 'event_time': 1740573247533, 'vin': 'P6WC2C1B5R1000105'}\n",
      "Produced: {'BF_CellVoltage1': -2147483650, 'BF_CellVoltage10': -2147483650, 'BF_CellVoltage11': -2147483650, 'BF_CellVoltage12': -2147483650, 'BF_CellVoltage2': -2147483650, 'BF_CellVoltage3': -2147483650, 'BF_CellVoltage4': -2147483650, 'BF_CellVoltage5': 4.128, 'BF_CellVoltage6': 4.134, 'BF_CellVoltage7': 4.143, 'BF_CellVoltage8': 4.139, 'BF_CellVoltage9': -2147483650, 'event_time': 1740573247621, 'vin': 'P6WC2C1B5R1000105'}\n",
      "Produced: {'BF_CellVoltage1': -2147483650, 'BF_CellVoltage10': 4.141, 'BF_CellVoltage11': 4.145, 'BF_CellVoltage12': 4.147, 'BF_CellVoltage2': -2147483650, 'BF_CellVoltage3': -2147483650, 'BF_CellVoltage4': -2147483650, 'BF_CellVoltage5': -2147483650, 'BF_CellVoltage6': -2147483650, 'BF_CellVoltage7': -2147483650, 'BF_CellVoltage8': -2147483650, 'BF_CellVoltage9': 4.14, 'event_time': 1740573247635, 'vin': 'P6WC2C1B5R1000105'}\n",
      "Produced: {'BF_CellVoltage1': -2147483650, 'BF_CellVoltage10': -2147483650, 'BF_CellVoltage11': -2147483650, 'BF_CellVoltage12': -2147483650, 'BF_CellVoltage2': -2147483650, 'BF_CellVoltage3': -2147483650, 'BF_CellVoltage4': -2147483650, 'BF_CellVoltage5': 4.128, 'BF_CellVoltage6': 4.134, 'BF_CellVoltage7': 4.142, 'BF_CellVoltage8': 4.139, 'BF_CellVoltage9': -2147483650, 'event_time': 1740573247769, 'vin': 'P6WC2C1B5R1000105'}\n",
      "Produced: {'BF_CellVoltage1': -2147483650, 'BF_CellVoltage10': 4.14, 'BF_CellVoltage11': 4.145, 'BF_CellVoltage12': 4.148, 'BF_CellVoltage2': -2147483650, 'BF_CellVoltage3': -2147483650, 'BF_CellVoltage4': -2147483650, 'BF_CellVoltage5': -2147483650, 'BF_CellVoltage6': -2147483650, 'BF_CellVoltage7': -2147483650, 'BF_CellVoltage8': -2147483650, 'BF_CellVoltage9': 4.141, 'event_time': 1740573247784, 'vin': 'P6WC2C1B5R1000105'}\n",
      "Produced: {'BF_CellVoltage1': -2147483650, 'BF_CellVoltage10': 4.14, 'BF_CellVoltage11': 4.145, 'BF_CellVoltage12': 4.147, 'BF_CellVoltage2': -2147483650, 'BF_CellVoltage3': -2147483650, 'BF_CellVoltage4': -2147483650, 'BF_CellVoltage5': -2147483650, 'BF_CellVoltage6': -2147483650, 'BF_CellVoltage7': -2147483650, 'BF_CellVoltage8': -2147483650, 'BF_CellVoltage9': 4.14, 'event_time': 1740573247982, 'vin': 'P6WC2C1B5R1000105'}\n",
      "Produced: {'BF_CellVoltage1': -2147483650, 'BF_CellVoltage10': -2147483650, 'BF_CellVoltage11': -2147483650, 'BF_CellVoltage12': -2147483650, 'BF_CellVoltage2': -2147483650, 'BF_CellVoltage3': -2147483650, 'BF_CellVoltage4': -2147483650, 'BF_CellVoltage5': 4.128, 'BF_CellVoltage6': 4.134, 'BF_CellVoltage7': 4.143, 'BF_CellVoltage8': 4.139, 'BF_CellVoltage9': -2147483650, 'event_time': 1740573248394, 'vin': 'P6WC2C1B5R1000105'}\n",
      "Produced: {'BF_CellVoltage1': -2147483650, 'BF_CellVoltage10': 4.141, 'BF_CellVoltage11': 4.146, 'BF_CellVoltage12': 4.147, 'BF_CellVoltage2': -2147483650, 'BF_CellVoltage3': -2147483650, 'BF_CellVoltage4': -2147483650, 'BF_CellVoltage5': -2147483650, 'BF_CellVoltage6': -2147483650, 'BF_CellVoltage7': -2147483650, 'BF_CellVoltage8': -2147483650, 'BF_CellVoltage9': 4.14, 'event_time': 1740573248422, 'vin': 'P6WC2C1B5R1000105'}\n",
      "Produced: {'BF_CellVoltage1': -2147483650, 'BF_CellVoltage10': -2147483650, 'BF_CellVoltage11': -2147483650, 'BF_CellVoltage12': -2147483650, 'BF_CellVoltage2': -2147483650, 'BF_CellVoltage3': -2147483650, 'BF_CellVoltage4': -2147483650, 'BF_CellVoltage5': 4.128, 'BF_CellVoltage6': 4.134, 'BF_CellVoltage7': 4.142, 'BF_CellVoltage8': 4.139, 'BF_CellVoltage9': -2147483650, 'event_time': 1740573248599, 'vin': 'P6WC2C1B5R1000105'}\n",
      "Produced: {'BF_CellVoltage1': -2147483650, 'BF_CellVoltage10': 4.141, 'BF_CellVoltage11': 4.146, 'BF_CellVoltage12': 4.144, 'BF_CellVoltage2': -2147483650, 'BF_CellVoltage3': -2147483650, 'BF_CellVoltage4': -2147483650, 'BF_CellVoltage5': -2147483650, 'BF_CellVoltage6': -2147483650, 'BF_CellVoltage7': -2147483650, 'BF_CellVoltage8': -2147483650, 'BF_CellVoltage9': 4.14, 'event_time': 1740573248773, 'vin': 'P6WC2C1B5R1000105'}\n",
      "Produced: {'BF_CellVoltage1': -2147483650, 'BF_CellVoltage10': 4.14, 'BF_CellVoltage11': 4.145, 'BF_CellVoltage12': 4.146, 'BF_CellVoltage2': -2147483650, 'BF_CellVoltage3': -2147483650, 'BF_CellVoltage4': -2147483650, 'BF_CellVoltage5': -2147483650, 'BF_CellVoltage6': -2147483650, 'BF_CellVoltage7': -2147483650, 'BF_CellVoltage8': -2147483650, 'BF_CellVoltage9': 4.14, 'event_time': 1740573248953, 'vin': 'P6WC2C1B5R1000105'}\n",
      "Produced: {'BF_CellVoltage1': -2147483650, 'BF_CellVoltage10': -2147483650, 'BF_CellVoltage11': -2147483650, 'BF_CellVoltage12': -2147483650, 'BF_CellVoltage2': -2147483650, 'BF_CellVoltage3': -2147483650, 'BF_CellVoltage4': -2147483650, 'BF_CellVoltage5': 4.128, 'BF_CellVoltage6': 4.132, 'BF_CellVoltage7': 4.142, 'BF_CellVoltage8': 4.14, 'BF_CellVoltage9': -2147483650, 'event_time': 1740573249393, 'vin': 'P6WC2C1B5R1000105'}\n",
      "Produced: {'BF_CellVoltage1': -2147483650, 'BF_CellVoltage10': 4.141, 'BF_CellVoltage11': 4.145, 'BF_CellVoltage12': 4.147, 'BF_CellVoltage2': -2147483650, 'BF_CellVoltage3': -2147483650, 'BF_CellVoltage4': -2147483650, 'BF_CellVoltage5': -2147483650, 'BF_CellVoltage6': -2147483650, 'BF_CellVoltage7': -2147483650, 'BF_CellVoltage8': -2147483650, 'BF_CellVoltage9': 4.14, 'event_time': 1740573249417, 'vin': 'P6WC2C1B5R1000105'}\n",
      "Produced: {'BF_CellVoltage1': -2147483650, 'BF_CellVoltage10': -2147483650, 'BF_CellVoltage11': -2147483650, 'BF_CellVoltage12': -2147483650, 'BF_CellVoltage2': -2147483650, 'BF_CellVoltage3': -2147483650, 'BF_CellVoltage4': -2147483650, 'BF_CellVoltage5': 4.128, 'BF_CellVoltage6': 4.134, 'BF_CellVoltage7': 4.142, 'BF_CellVoltage8': 4.139, 'BF_CellVoltage9': -2147483650, 'event_time': 1740573249582, 'vin': 'P6WC2C1B5R1000105'}\n",
      "Produced: {'BF_CellVoltage1': -2147483650, 'BF_CellVoltage10': 4.141, 'BF_CellVoltage11': 4.146, 'BF_CellVoltage12': 4.148, 'BF_CellVoltage2': -2147483650, 'BF_CellVoltage3': -2147483650, 'BF_CellVoltage4': -2147483650, 'BF_CellVoltage5': -2147483650, 'BF_CellVoltage6': -2147483650, 'BF_CellVoltage7': -2147483650, 'BF_CellVoltage8': -2147483650, 'BF_CellVoltage9': 4.14, 'event_time': 1740573249598, 'vin': 'P6WC2C1B5R1000105'}\n",
      "Produced: {'BF_CellVoltage1': -2147483650, 'BF_CellVoltage10': 4.141, 'BF_CellVoltage11': 4.146, 'BF_CellVoltage12': 4.147, 'BF_CellVoltage2': -2147483650, 'BF_CellVoltage3': -2147483650, 'BF_CellVoltage4': -2147483650, 'BF_CellVoltage5': -2147483650, 'BF_CellVoltage6': -2147483650, 'BF_CellVoltage7': -2147483650, 'BF_CellVoltage8': -2147483650, 'BF_CellVoltage9': 4.14, 'event_time': 1740573249981, 'vin': 'P6WC2C1B5R1000105'}\n",
      "Produced: {'BF_CellVoltage1': -2147483650, 'BF_CellVoltage10': 4.141, 'BF_CellVoltage11': 4.145, 'BF_CellVoltage12': 4.147, 'BF_CellVoltage2': -2147483650, 'BF_CellVoltage3': -2147483650, 'BF_CellVoltage4': -2147483650, 'BF_CellVoltage5': -2147483650, 'BF_CellVoltage6': -2147483650, 'BF_CellVoltage7': -2147483650, 'BF_CellVoltage8': -2147483650, 'BF_CellVoltage9': 4.14, 'event_time': 1740573250376, 'vin': 'P6WC2C1B5R1000105'}\n",
      "Produced: {'BF_CellVoltage1': -2147483650, 'BF_CellVoltage10': -2147483650, 'BF_CellVoltage11': -2147483650, 'BF_CellVoltage12': -2147483650, 'BF_CellVoltage2': -2147483650, 'BF_CellVoltage3': -2147483650, 'BF_CellVoltage4': -2147483650, 'BF_CellVoltage5': 4.128, 'BF_CellVoltage6': 4.134, 'BF_CellVoltage7': 4.142, 'BF_CellVoltage8': 4.14, 'BF_CellVoltage9': -2147483650, 'event_time': 1740573250576, 'vin': 'P6WC2C1B5R1000105'}\n",
      "Produced: {'BF_CellVoltage1': -2147483650, 'BF_CellVoltage10': 4.141, 'BF_CellVoltage11': 4.145, 'BF_CellVoltage12': 4.147, 'BF_CellVoltage2': -2147483650, 'BF_CellVoltage3': -2147483650, 'BF_CellVoltage4': -2147483650, 'BF_CellVoltage5': -2147483650, 'BF_CellVoltage6': -2147483650, 'BF_CellVoltage7': -2147483650, 'BF_CellVoltage8': -2147483650, 'BF_CellVoltage9': 4.141, 'event_time': 1740573250597, 'vin': 'P6WC2C1B5R1000105'}\n",
      "Produced: {'BF_CellVoltage1': -2147483650, 'BF_CellVoltage10': -2147483650, 'BF_CellVoltage11': -2147483650, 'BF_CellVoltage12': -2147483650, 'BF_CellVoltage2': -2147483650, 'BF_CellVoltage3': -2147483650, 'BF_CellVoltage4': -2147483650, 'BF_CellVoltage5': 4.128, 'BF_CellVoltage6': 4.134, 'BF_CellVoltage7': 4.143, 'BF_CellVoltage8': 4.14, 'BF_CellVoltage9': -2147483650, 'event_time': 1740573250781, 'vin': 'P6WC2C1B5R1000105'}\n",
      "Produced: {'BF_CellVoltage1': -2147483650, 'BF_CellVoltage10': 4.14, 'BF_CellVoltage11': 4.146, 'BF_CellVoltage12': 4.145, 'BF_CellVoltage2': -2147483650, 'BF_CellVoltage3': -2147483650, 'BF_CellVoltage4': -2147483650, 'BF_CellVoltage5': -2147483650, 'BF_CellVoltage6': -2147483650, 'BF_CellVoltage7': -2147483650, 'BF_CellVoltage8': -2147483650, 'BF_CellVoltage9': 4.141, 'event_time': 1740573250791, 'vin': 'P6WC2C1B5R1000105'}\n",
      "Produced: {'BF_CellVoltage1': -2147483650, 'BF_CellVoltage10': -2147483650, 'BF_CellVoltage11': -2147483650, 'BF_CellVoltage12': -2147483650, 'BF_CellVoltage2': -2147483650, 'BF_CellVoltage3': -2147483650, 'BF_CellVoltage4': -2147483650, 'BF_CellVoltage5': 4.128, 'BF_CellVoltage6': 4.134, 'BF_CellVoltage7': 4.142, 'BF_CellVoltage8': 4.14, 'BF_CellVoltage9': -2147483650, 'event_time': 1740573250976, 'vin': 'P6WC2C1B5R1000105'}\n",
      "Produced: {'BF_CellVoltage1': -2147483650, 'BF_CellVoltage10': 4.141, 'BF_CellVoltage11': 4.146, 'BF_CellVoltage12': 4.146, 'BF_CellVoltage2': -2147483650, 'BF_CellVoltage3': -2147483650, 'BF_CellVoltage4': -2147483650, 'BF_CellVoltage5': -2147483650, 'BF_CellVoltage6': -2147483650, 'BF_CellVoltage7': -2147483650, 'BF_CellVoltage8': -2147483650, 'BF_CellVoltage9': 4.141, 'event_time': 1740573250983, 'vin': 'P6WC2C1B5R1000105'}\n",
      "Produced: {'BF_CellVoltage1': -2147483650, 'BF_CellVoltage10': -2147483650, 'BF_CellVoltage11': -2147483650, 'BF_CellVoltage12': -2147483650, 'BF_CellVoltage2': -2147483650, 'BF_CellVoltage3': -2147483650, 'BF_CellVoltage4': -2147483650, 'BF_CellVoltage5': 4.128, 'BF_CellVoltage6': 4.134, 'BF_CellVoltage7': 4.142, 'BF_CellVoltage8': 4.139, 'BF_CellVoltage9': -2147483650, 'event_time': 1740573251396, 'vin': 'P6WC2C1B5R1000105'}\n",
      "Produced: {'BF_CellVoltage1': -2147483650, 'BF_CellVoltage10': 4.14, 'BF_CellVoltage11': 4.145, 'BF_CellVoltage12': 4.147, 'BF_CellVoltage2': -2147483650, 'BF_CellVoltage3': -2147483650, 'BF_CellVoltage4': -2147483650, 'BF_CellVoltage5': -2147483650, 'BF_CellVoltage6': -2147483650, 'BF_CellVoltage7': -2147483650, 'BF_CellVoltage8': -2147483650, 'BF_CellVoltage9': 4.141, 'event_time': 1740573251422, 'vin': 'P6WC2C1B5R1000105'}\n",
      "Produced: {'BF_CellVoltage1': -2147483650, 'BF_CellVoltage10': 4.141, 'BF_CellVoltage11': 4.145, 'BF_CellVoltage12': 4.147, 'BF_CellVoltage2': -2147483650, 'BF_CellVoltage3': -2147483650, 'BF_CellVoltage4': -2147483650, 'BF_CellVoltage5': -2147483650, 'BF_CellVoltage6': -2147483650, 'BF_CellVoltage7': -2147483650, 'BF_CellVoltage8': -2147483650, 'BF_CellVoltage9': 4.14, 'event_time': 1740573251543, 'vin': 'P6WC2C1B5R1000105'}\n",
      "Produced: {'BF_CellVoltage1': -2147483650, 'BF_CellVoltage10': 4.141, 'BF_CellVoltage11': 4.146, 'BF_CellVoltage12': 4.147, 'BF_CellVoltage2': -2147483650, 'BF_CellVoltage3': -2147483650, 'BF_CellVoltage4': -2147483650, 'BF_CellVoltage5': -2147483650, 'BF_CellVoltage6': -2147483650, 'BF_CellVoltage7': -2147483650, 'BF_CellVoltage8': -2147483650, 'BF_CellVoltage9': 4.141, 'event_time': 1740573251772, 'vin': 'P6WC2C1B5R1000105'}\n",
      "Produced: {'BF_CellVoltage1': -2147483650, 'BF_CellVoltage10': 4.141, 'BF_CellVoltage11': 4.145, 'BF_CellVoltage12': 4.147, 'BF_CellVoltage2': -2147483650, 'BF_CellVoltage3': -2147483650, 'BF_CellVoltage4': -2147483650, 'BF_CellVoltage5': -2147483650, 'BF_CellVoltage6': -2147483650, 'BF_CellVoltage7': -2147483650, 'BF_CellVoltage8': -2147483650, 'BF_CellVoltage9': 4.14, 'event_time': 1740573251995, 'vin': 'P6WC2C1B5R1000105'}\n",
      "Produced: {'BF_CellVoltage1': -2147483650, 'BF_CellVoltage10': -2147483650, 'BF_CellVoltage11': -2147483650, 'BF_CellVoltage12': -2147483650, 'BF_CellVoltage2': -2147483650, 'BF_CellVoltage3': -2147483650, 'BF_CellVoltage4': -2147483650, 'BF_CellVoltage5': 4.128, 'BF_CellVoltage6': 4.134, 'BF_CellVoltage7': 4.142, 'BF_CellVoltage8': 4.14, 'BF_CellVoltage9': -2147483650, 'event_time': 1740573252379, 'vin': 'P6WC2C1B5R1000105'}\n",
      "Produced: {'BF_CellVoltage1': -2147483650, 'BF_CellVoltage10': 4.141, 'BF_CellVoltage11': 4.145, 'BF_CellVoltage12': 4.147, 'BF_CellVoltage2': -2147483650, 'BF_CellVoltage3': -2147483650, 'BF_CellVoltage4': -2147483650, 'BF_CellVoltage5': -2147483650, 'BF_CellVoltage6': -2147483650, 'BF_CellVoltage7': -2147483650, 'BF_CellVoltage8': -2147483650, 'BF_CellVoltage9': 4.141, 'event_time': 1740573252587, 'vin': 'P6WC2C1B5R1000105'}\n",
      "Produced: {'BF_CellVoltage1': -2147483650, 'BF_CellVoltage10': -2147483650, 'BF_CellVoltage11': -2147483650, 'BF_CellVoltage12': -2147483650, 'BF_CellVoltage2': -2147483650, 'BF_CellVoltage3': -2147483650, 'BF_CellVoltage4': -2147483650, 'BF_CellVoltage5': 4.128, 'BF_CellVoltage6': 4.134, 'BF_CellVoltage7': 4.142, 'BF_CellVoltage8': 4.139, 'BF_CellVoltage9': -2147483650, 'event_time': 1740573252791, 'vin': 'P6WC2C1B5R1000105'}\n",
      "Produced: {'BF_CellVoltage1': -2147483650, 'BF_CellVoltage10': 4.14, 'BF_CellVoltage11': 4.146, 'BF_CellVoltage12': 4.147, 'BF_CellVoltage2': -2147483650, 'BF_CellVoltage3': -2147483650, 'BF_CellVoltage4': -2147483650, 'BF_CellVoltage5': -2147483650, 'BF_CellVoltage6': -2147483650, 'BF_CellVoltage7': -2147483650, 'BF_CellVoltage8': -2147483650, 'BF_CellVoltage9': 4.14, 'event_time': 1740573252800, 'vin': 'P6WC2C1B5R1000105'}\n",
      "Produced: {'BF_CellVoltage1': -2147483650, 'BF_CellVoltage10': -2147483650, 'BF_CellVoltage11': -2147483650, 'BF_CellVoltage12': -2147483650, 'BF_CellVoltage2': -2147483650, 'BF_CellVoltage3': -2147483650, 'BF_CellVoltage4': -2147483650, 'BF_CellVoltage5': 4.128, 'BF_CellVoltage6': 4.135, 'BF_CellVoltage7': 4.142, 'BF_CellVoltage8': 4.14, 'BF_CellVoltage9': -2147483650, 'event_time': 1740573252992, 'vin': 'P6WC2C1B5R1000105'}\n",
      "Produced: {'BF_CellVoltage1': -2147483650, 'BF_CellVoltage10': 4.141, 'BF_CellVoltage11': 4.146, 'BF_CellVoltage12': 4.145, 'BF_CellVoltage2': -2147483650, 'BF_CellVoltage3': -2147483650, 'BF_CellVoltage4': -2147483650, 'BF_CellVoltage5': -2147483650, 'BF_CellVoltage6': -2147483650, 'BF_CellVoltage7': -2147483650, 'BF_CellVoltage8': -2147483650, 'BF_CellVoltage9': 4.141, 'event_time': 1740573253001, 'vin': 'P6WC2C1B5R1000105'}\n",
      "Produced: {'BF_CellVoltage1': -2147483650, 'BF_CellVoltage10': -2147483650, 'BF_CellVoltage11': -2147483650, 'BF_CellVoltage12': -2147483650, 'BF_CellVoltage2': -2147483650, 'BF_CellVoltage3': -2147483650, 'BF_CellVoltage4': -2147483650, 'BF_CellVoltage5': 4.128, 'BF_CellVoltage6': 4.134, 'BF_CellVoltage7': 4.139, 'BF_CellVoltage8': 4.14, 'BF_CellVoltage9': -2147483650, 'event_time': 1740573253166, 'vin': 'P6WC2C1B5R1000105'}\n",
      "Produced: {'BF_CellVoltage1': -2147483650, 'BF_CellVoltage10': 4.141, 'BF_CellVoltage11': 4.145, 'BF_CellVoltage12': 4.145, 'BF_CellVoltage2': -2147483650, 'BF_CellVoltage3': -2147483650, 'BF_CellVoltage4': -2147483650, 'BF_CellVoltage5': -2147483650, 'BF_CellVoltage6': -2147483650, 'BF_CellVoltage7': -2147483650, 'BF_CellVoltage8': -2147483650, 'BF_CellVoltage9': 4.141, 'event_time': 1740573253187, 'vin': 'P6WC2C1B5R1000105'}\n",
      "Produced: {'BF_CellVoltage1': -2147483650, 'BF_CellVoltage10': 4.141, 'BF_CellVoltage11': 4.145, 'BF_CellVoltage12': 4.147, 'BF_CellVoltage2': -2147483650, 'BF_CellVoltage3': -2147483650, 'BF_CellVoltage4': -2147483650, 'BF_CellVoltage5': -2147483650, 'BF_CellVoltage6': -2147483650, 'BF_CellVoltage7': -2147483650, 'BF_CellVoltage8': -2147483650, 'BF_CellVoltage9': 4.141, 'event_time': 1740573253374, 'vin': 'P6WC2C1B5R1000105'}\n",
      "Produced: {'BF_CellVoltage1': -2147483650, 'BF_CellVoltage10': -2147483650, 'BF_CellVoltage11': -2147483650, 'BF_CellVoltage12': -2147483650, 'BF_CellVoltage2': -2147483650, 'BF_CellVoltage3': -2147483650, 'BF_CellVoltage4': -2147483650, 'BF_CellVoltage5': 4.129, 'BF_CellVoltage6': 4.134, 'BF_CellVoltage7': 4.141, 'BF_CellVoltage8': 4.14, 'BF_CellVoltage9': -2147483650, 'event_time': 1740573253747, 'vin': 'P6WC2C1B5R1000105'}\n",
      "Produced: {'BF_CellVoltage1': -2147483650, 'BF_CellVoltage10': -2147483650, 'BF_CellVoltage11': -2147483650, 'BF_CellVoltage12': -2147483650, 'BF_CellVoltage2': -2147483650, 'BF_CellVoltage3': -2147483650, 'BF_CellVoltage4': -2147483650, 'BF_CellVoltage5': 4.128, 'BF_CellVoltage6': 4.134, 'BF_CellVoltage7': 4.142, 'BF_CellVoltage8': 4.14, 'BF_CellVoltage9': -2147483650, 'event_time': 1740573253797, 'vin': 'P6WC2C1B5R1000105'}\n",
      "Produced: {'BF_CellVoltage1': -2147483650, 'BF_CellVoltage10': -2147483650, 'BF_CellVoltage11': -2147483650, 'BF_CellVoltage12': -2147483650, 'BF_CellVoltage2': -2147483650, 'BF_CellVoltage3': -2147483650, 'BF_CellVoltage4': -2147483650, 'BF_CellVoltage5': 4.128, 'BF_CellVoltage6': 4.134, 'BF_CellVoltage7': 4.142, 'BF_CellVoltage8': 4.139, 'BF_CellVoltage9': -2147483650, 'event_time': 1740573253963, 'vin': 'P6WC2C1B5R1000105'}\n",
      "Produced: {'BF_CellVoltage1': -2147483650, 'BF_CellVoltage10': 4.141, 'BF_CellVoltage11': 4.145, 'BF_CellVoltage12': 4.147, 'BF_CellVoltage2': -2147483650, 'BF_CellVoltage3': -2147483650, 'BF_CellVoltage4': -2147483650, 'BF_CellVoltage5': -2147483650, 'BF_CellVoltage6': -2147483650, 'BF_CellVoltage7': -2147483650, 'BF_CellVoltage8': -2147483650, 'BF_CellVoltage9': 4.14, 'event_time': 1740573253982, 'vin': 'P6WC2C1B5R1000105'}\n",
      "Produced: {'BF_CellVoltage1': -2147483650, 'BF_CellVoltage10': 4.14, 'BF_CellVoltage11': 4.146, 'BF_CellVoltage12': 4.147, 'BF_CellVoltage2': -2147483650, 'BF_CellVoltage3': -2147483650, 'BF_CellVoltage4': -2147483650, 'BF_CellVoltage5': -2147483650, 'BF_CellVoltage6': -2147483650, 'BF_CellVoltage7': -2147483650, 'BF_CellVoltage8': -2147483650, 'BF_CellVoltage9': 4.14, 'event_time': 1740573254590, 'vin': 'P6WC2C1B5R1000105'}\n",
      "Produced: {'BF_CellVoltage1': -2147483650, 'BF_CellVoltage10': 4.141, 'BF_CellVoltage11': 4.145, 'BF_CellVoltage12': 4.146, 'BF_CellVoltage2': -2147483650, 'BF_CellVoltage3': -2147483650, 'BF_CellVoltage4': -2147483650, 'BF_CellVoltage5': -2147483650, 'BF_CellVoltage6': -2147483650, 'BF_CellVoltage7': -2147483650, 'BF_CellVoltage8': -2147483650, 'BF_CellVoltage9': 4.14, 'event_time': 1740573254965, 'vin': 'P6WC2C1B5R1000105'}\n",
      "Produced: {'BF_CellVoltage1': -2147483650, 'BF_CellVoltage10': 4.141, 'BF_CellVoltage11': 4.145, 'BF_CellVoltage12': 4.148, 'BF_CellVoltage2': -2147483650, 'BF_CellVoltage3': -2147483650, 'BF_CellVoltage4': -2147483650, 'BF_CellVoltage5': -2147483650, 'BF_CellVoltage6': -2147483650, 'BF_CellVoltage7': -2147483650, 'BF_CellVoltage8': -2147483650, 'BF_CellVoltage9': 4.141, 'event_time': 1740573255197, 'vin': 'P6WC2C1B5R1000105'}\n",
      "Produced: {'BF_CellVoltage1': -2147483650, 'BF_CellVoltage10': -2147483650, 'BF_CellVoltage11': -2147483650, 'BF_CellVoltage12': -2147483650, 'BF_CellVoltage2': -2147483650, 'BF_CellVoltage3': -2147483650, 'BF_CellVoltage4': -2147483650, 'BF_CellVoltage5': 4.128, 'BF_CellVoltage6': 4.134, 'BF_CellVoltage7': 4.142, 'BF_CellVoltage8': 4.14, 'BF_CellVoltage9': -2147483650, 'event_time': 1740573255584, 'vin': 'P6WC2C1B5R1000105'}\n",
      "Produced: {'BF_CellVoltage1': -2147483650, 'BF_CellVoltage10': 4.141, 'BF_CellVoltage11': 4.146, 'BF_CellVoltage12': 4.147, 'BF_CellVoltage2': -2147483650, 'BF_CellVoltage3': -2147483650, 'BF_CellVoltage4': -2147483650, 'BF_CellVoltage5': -2147483650, 'BF_CellVoltage6': -2147483650, 'BF_CellVoltage7': -2147483650, 'BF_CellVoltage8': -2147483650, 'BF_CellVoltage9': 4.14, 'event_time': 1740573255627, 'vin': 'P6WC2C1B5R1000105'}\n",
      "Produced: {'BF_CellVoltage1': -2147483650, 'BF_CellVoltage10': 4.141, 'BF_CellVoltage11': 4.145, 'BF_CellVoltage12': 4.147, 'BF_CellVoltage2': -2147483650, 'BF_CellVoltage3': -2147483650, 'BF_CellVoltage4': -2147483650, 'BF_CellVoltage5': -2147483650, 'BF_CellVoltage6': -2147483650, 'BF_CellVoltage7': -2147483650, 'BF_CellVoltage8': -2147483650, 'BF_CellVoltage9': 4.141, 'event_time': 1740573255766, 'vin': 'P6WC2C1B5R1000105'}\n",
      "Produced: {'BF_CellVoltage1': -2147483650, 'BF_CellVoltage10': 4.141, 'BF_CellVoltage11': 4.146, 'BF_CellVoltage12': 4.147, 'BF_CellVoltage2': -2147483650, 'BF_CellVoltage3': -2147483650, 'BF_CellVoltage4': -2147483650, 'BF_CellVoltage5': -2147483650, 'BF_CellVoltage6': -2147483650, 'BF_CellVoltage7': -2147483650, 'BF_CellVoltage8': -2147483650, 'BF_CellVoltage9': 4.14, 'event_time': 1740573256202, 'vin': 'P6WC2C1B5R1000105'}\n",
      "Produced: {'BF_CellVoltage1': 4.132, 'BF_CellVoltage10': -2147483650, 'BF_CellVoltage11': -2147483650, 'BF_CellVoltage12': -2147483650, 'BF_CellVoltage2': 4.133, 'BF_CellVoltage3': 4.132, 'BF_CellVoltage4': 4.134, 'BF_CellVoltage5': -2147483650, 'BF_CellVoltage6': -2147483650, 'BF_CellVoltage7': -2147483650, 'BF_CellVoltage8': -2147483650, 'BF_CellVoltage9': -2147483650, 'event_time': 1740573256585, 'vin': 'P6WC2C1B5R1000105'}\n",
      "Produced: {'BF_CellVoltage1': -2147483650, 'BF_CellVoltage10': 4.141, 'BF_CellVoltage11': 4.146, 'BF_CellVoltage12': 4.148, 'BF_CellVoltage2': -2147483650, 'BF_CellVoltage3': -2147483650, 'BF_CellVoltage4': -2147483650, 'BF_CellVoltage5': -2147483650, 'BF_CellVoltage6': -2147483650, 'BF_CellVoltage7': -2147483650, 'BF_CellVoltage8': -2147483650, 'BF_CellVoltage9': 4.141, 'event_time': 1740573256593, 'vin': 'P6WC2C1B5R1000105'}\n",
      "Produced: {'BF_CellVoltage1': -2147483650, 'BF_CellVoltage10': -2147483650, 'BF_CellVoltage11': -2147483650, 'BF_CellVoltage12': -2147483650, 'BF_CellVoltage2': -2147483650, 'BF_CellVoltage3': -2147483650, 'BF_CellVoltage4': -2147483650, 'BF_CellVoltage5': 4.128, 'BF_CellVoltage6': 4.134, 'BF_CellVoltage7': 4.146, 'BF_CellVoltage8': 4.14, 'BF_CellVoltage9': -2147483650, 'event_time': 1740573256949, 'vin': 'P6WC2C1B5R1000105'}\n",
      "Produced: {'BF_CellVoltage1': -2147483650, 'BF_CellVoltage10': 4.141, 'BF_CellVoltage11': 4.146, 'BF_CellVoltage12': 4.146, 'BF_CellVoltage2': -2147483650, 'BF_CellVoltage3': -2147483650, 'BF_CellVoltage4': -2147483650, 'BF_CellVoltage5': -2147483650, 'BF_CellVoltage6': -2147483650, 'BF_CellVoltage7': -2147483650, 'BF_CellVoltage8': -2147483650, 'BF_CellVoltage9': 4.141, 'event_time': 1740573256962, 'vin': 'P6WC2C1B5R1000105'}\n",
      "Produced: {'BF_CellVoltage1': -2147483650, 'BF_CellVoltage10': -2147483650, 'BF_CellVoltage11': -2147483650, 'BF_CellVoltage12': -2147483650, 'BF_CellVoltage2': -2147483650, 'BF_CellVoltage3': -2147483650, 'BF_CellVoltage4': -2147483650, 'BF_CellVoltage5': 4.128, 'BF_CellVoltage6': 4.134, 'BF_CellVoltage7': 4.143, 'BF_CellVoltage8': 4.14, 'BF_CellVoltage9': -2147483650, 'event_time': 1740573257198, 'vin': 'P6WC2C1B5R1000105'}\n",
      "Produced: {'BF_CellVoltage1': -2147483650, 'BF_CellVoltage10': 4.141, 'BF_CellVoltage11': 4.146, 'BF_CellVoltage12': 4.147, 'BF_CellVoltage2': -2147483650, 'BF_CellVoltage3': -2147483650, 'BF_CellVoltage4': -2147483650, 'BF_CellVoltage5': -2147483650, 'BF_CellVoltage6': -2147483650, 'BF_CellVoltage7': -2147483650, 'BF_CellVoltage8': -2147483650, 'BF_CellVoltage9': 4.141, 'event_time': 1740573257214, 'vin': 'P6WC2C1B5R1000105'}\n",
      "Produced: {'BF_CellVoltage1': -2147483650, 'BF_CellVoltage10': -2147483650, 'BF_CellVoltage11': -2147483650, 'BF_CellVoltage12': -2147483650, 'BF_CellVoltage2': -2147483650, 'BF_CellVoltage3': -2147483650, 'BF_CellVoltage4': -2147483650, 'BF_CellVoltage5': 4.128, 'BF_CellVoltage6': 4.134, 'BF_CellVoltage7': 4.142, 'BF_CellVoltage8': 4.14, 'BF_CellVoltage9': -2147483650, 'event_time': 1740573257540, 'vin': 'P6WC2C1B5R1000105'}\n",
      "Produced: {'BF_CellVoltage1': -2147483650, 'BF_CellVoltage10': -2147483650, 'BF_CellVoltage11': -2147483650, 'BF_CellVoltage12': -2147483650, 'BF_CellVoltage2': -2147483650, 'BF_CellVoltage3': -2147483650, 'BF_CellVoltage4': -2147483650, 'BF_CellVoltage5': 4.128, 'BF_CellVoltage6': 4.134, 'BF_CellVoltage7': 4.143, 'BF_CellVoltage8': 4.139, 'BF_CellVoltage9': -2147483650, 'event_time': 1740573257940, 'vin': 'P6WC2C1B5R1000105'}\n",
      "Produced: {'BF_CellVoltage1': -2147483650, 'BF_CellVoltage10': 4.141, 'BF_CellVoltage11': 4.146, 'BF_CellVoltage12': 4.147, 'BF_CellVoltage2': -2147483650, 'BF_CellVoltage3': -2147483650, 'BF_CellVoltage4': -2147483650, 'BF_CellVoltage5': -2147483650, 'BF_CellVoltage6': -2147483650, 'BF_CellVoltage7': -2147483650, 'BF_CellVoltage8': -2147483650, 'BF_CellVoltage9': 4.14, 'event_time': 1740573257946, 'vin': 'P6WC2C1B5R1000105'}\n",
      "Produced: {'BF_CellVoltage1': -2147483650, 'BF_CellVoltage10': -2147483650, 'BF_CellVoltage11': -2147483650, 'BF_CellVoltage12': -2147483650, 'BF_CellVoltage2': -2147483650, 'BF_CellVoltage3': -2147483650, 'BF_CellVoltage4': -2147483650, 'BF_CellVoltage5': 4.128, 'BF_CellVoltage6': 4.134, 'BF_CellVoltage7': 4.142, 'BF_CellVoltage8': 4.139, 'BF_CellVoltage9': -2147483650, 'event_time': 1740573258140, 'vin': 'P6WC2C1B5R1000105'}\n"
     ]
    }
   ],
   "source": [
    "# Convert records into individual JSON objects\n",
    "for record in records:\n",
    "    message = dict(zip(columns, record))  # Map columns to record values\n",
    "    producer.send(TOPIC, value=message)   # Send each message to Kafka\n",
    "    print(f\"Produced: {message}\")\n"
   ]
  },
  {
   "cell_type": "code",
   "execution_count": null,
   "metadata": {},
   "outputs": [],
   "source": []
  }
 ],
 "metadata": {
  "kernelspec": {
   "display_name": "Python 3",
   "language": "python",
   "name": "python3"
  },
  "language_info": {
   "codemirror_mode": {
    "name": "ipython",
    "version": 3
   },
   "file_extension": ".py",
   "mimetype": "text/x-python",
   "name": "python",
   "nbconvert_exporter": "python",
   "pygments_lexer": "ipython3",
   "version": "3.12.6"
  }
 },
 "nbformat": 4,
 "nbformat_minor": 2
}
